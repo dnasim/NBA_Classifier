{
 "cells": [
  {
   "cell_type": "markdown",
   "metadata": {},
   "source": [
    "# <p style=\"text-align: center;\"> Can we predict an NBA player's position based on your stats? </p>\n",
    "### In this notebook we will scrape the web for NBA player stats and attempt to train machine learning algorithms to predict a player's traditional position to the best of our ability"
   ]
  },
  {
   "cell_type": "code",
   "execution_count": 1,
   "metadata": {
    "collapsed": true
   },
   "outputs": [],
   "source": [
    "import pandas as pd\n",
    "import numpy as np\n",
    "from urllib.request import urlopen\n",
    "import matplotlib.pyplot as plt\n",
    "from xgboost import XGBClassifier\n",
    "from xgboost import plot_importance\n",
    "from sklearn.model_selection import train_test_split\n",
    "from sklearn.metrics import accuracy_score"
   ]
  },
  {
   "cell_type": "code",
   "execution_count": 2,
   "metadata": {
    "collapsed": false
   },
   "outputs": [],
   "source": [
    "#Create the list of years I wish to extract data for\n",
    "years = ['2000','2001','2002','2003','2004','2005','2006','2007','2008','2009',\n",
    "         '2010','2011','2012','2013','2014','2015','2016','2017','2018','2019']\n",
    "df = pd.DataFrame()\n",
    "\n",
    "#loop through the urls and store the combine data into a Pandas DataFrame\n",
    "for year in years:\n",
    "    url = 'https://www.basketball-reference.com/leagues/NBA_'+year+'_per_game.html'\n",
    "    html = urlopen(url).read()\n",
    "    table = pd.read_html(html)[0]\n",
    "    df = df.append(table)"
   ]
  },
  {
   "cell_type": "code",
   "execution_count": 3,
   "metadata": {
    "collapsed": false
   },
   "outputs": [],
   "source": [
    "#Remove headers that came in as rows\n",
    "df = df[df.Player != 'Player']\n",
    "\n",
    "#Remove extra characters from player's names\n",
    "df['Player'] = df['Player'].str.replace('*','')\n",
    "\n",
    "#Remove people who did not play any minutes\n",
    "df = df[df.MP != '0.0']"
   ]
  },
  {
   "cell_type": "code",
   "execution_count": 4,
   "metadata": {
    "collapsed": true
   },
   "outputs": [],
   "source": [
    "#Reset the index\n",
    "df = df.reset_index(drop=True)"
   ]
  },
  {
   "cell_type": "code",
   "execution_count": 5,
   "metadata": {
    "collapsed": false
   },
   "outputs": [
    {
     "data": {
      "text/html": [
       "<div>\n",
       "<style scoped>\n",
       "    .dataframe tbody tr th:only-of-type {\n",
       "        vertical-align: middle;\n",
       "    }\n",
       "\n",
       "    .dataframe tbody tr th {\n",
       "        vertical-align: top;\n",
       "    }\n",
       "\n",
       "    .dataframe thead th {\n",
       "        text-align: right;\n",
       "    }\n",
       "</style>\n",
       "<table border=\"1\" class=\"dataframe\">\n",
       "  <thead>\n",
       "    <tr style=\"text-align: right;\">\n",
       "      <th></th>\n",
       "      <th>Rk</th>\n",
       "      <th>Player</th>\n",
       "      <th>Pos</th>\n",
       "      <th>Age</th>\n",
       "      <th>Tm</th>\n",
       "      <th>G</th>\n",
       "      <th>GS</th>\n",
       "      <th>MP</th>\n",
       "      <th>FG</th>\n",
       "      <th>FGA</th>\n",
       "      <th>...</th>\n",
       "      <th>FT%</th>\n",
       "      <th>ORB</th>\n",
       "      <th>DRB</th>\n",
       "      <th>TRB</th>\n",
       "      <th>AST</th>\n",
       "      <th>STL</th>\n",
       "      <th>BLK</th>\n",
       "      <th>TOV</th>\n",
       "      <th>PF</th>\n",
       "      <th>PTS</th>\n",
       "    </tr>\n",
       "  </thead>\n",
       "  <tbody>\n",
       "    <tr>\n",
       "      <th>0</th>\n",
       "      <td>1</td>\n",
       "      <td>Tariq Abdul-Wahad</td>\n",
       "      <td>SG</td>\n",
       "      <td>25</td>\n",
       "      <td>TOT</td>\n",
       "      <td>61</td>\n",
       "      <td>56</td>\n",
       "      <td>25.9</td>\n",
       "      <td>4.5</td>\n",
       "      <td>10.6</td>\n",
       "      <td>...</td>\n",
       "      <td>.756</td>\n",
       "      <td>1.7</td>\n",
       "      <td>3.1</td>\n",
       "      <td>4.8</td>\n",
       "      <td>1.6</td>\n",
       "      <td>1.0</td>\n",
       "      <td>0.5</td>\n",
       "      <td>1.7</td>\n",
       "      <td>2.4</td>\n",
       "      <td>11.4</td>\n",
       "    </tr>\n",
       "    <tr>\n",
       "      <th>1</th>\n",
       "      <td>1</td>\n",
       "      <td>Tariq Abdul-Wahad</td>\n",
       "      <td>SG</td>\n",
       "      <td>25</td>\n",
       "      <td>ORL</td>\n",
       "      <td>46</td>\n",
       "      <td>46</td>\n",
       "      <td>26.2</td>\n",
       "      <td>4.8</td>\n",
       "      <td>11.2</td>\n",
       "      <td>...</td>\n",
       "      <td>.762</td>\n",
       "      <td>1.7</td>\n",
       "      <td>3.5</td>\n",
       "      <td>5.2</td>\n",
       "      <td>1.6</td>\n",
       "      <td>1.2</td>\n",
       "      <td>0.3</td>\n",
       "      <td>1.9</td>\n",
       "      <td>2.5</td>\n",
       "      <td>12.2</td>\n",
       "    </tr>\n",
       "    <tr>\n",
       "      <th>2</th>\n",
       "      <td>1</td>\n",
       "      <td>Tariq Abdul-Wahad</td>\n",
       "      <td>SG</td>\n",
       "      <td>25</td>\n",
       "      <td>DEN</td>\n",
       "      <td>15</td>\n",
       "      <td>10</td>\n",
       "      <td>24.9</td>\n",
       "      <td>3.4</td>\n",
       "      <td>8.7</td>\n",
       "      <td>...</td>\n",
       "      <td>.738</td>\n",
       "      <td>1.6</td>\n",
       "      <td>1.9</td>\n",
       "      <td>3.5</td>\n",
       "      <td>1.7</td>\n",
       "      <td>0.4</td>\n",
       "      <td>0.8</td>\n",
       "      <td>1.3</td>\n",
       "      <td>2.1</td>\n",
       "      <td>8.9</td>\n",
       "    </tr>\n",
       "  </tbody>\n",
       "</table>\n",
       "<p>3 rows × 30 columns</p>\n",
       "</div>"
      ],
      "text/plain": [
       "  Rk             Player Pos Age   Tm   G  GS    MP   FG   FGA  ...    FT%  \\\n",
       "0  1  Tariq Abdul-Wahad  SG  25  TOT  61  56  25.9  4.5  10.6  ...   .756   \n",
       "1  1  Tariq Abdul-Wahad  SG  25  ORL  46  46  26.2  4.8  11.2  ...   .762   \n",
       "2  1  Tariq Abdul-Wahad  SG  25  DEN  15  10  24.9  3.4   8.7  ...   .738   \n",
       "\n",
       "   ORB  DRB  TRB  AST  STL  BLK  TOV   PF   PTS  \n",
       "0  1.7  3.1  4.8  1.6  1.0  0.5  1.7  2.4  11.4  \n",
       "1  1.7  3.5  5.2  1.6  1.2  0.3  1.9  2.5  12.2  \n",
       "2  1.6  1.9  3.5  1.7  0.4  0.8  1.3  2.1   8.9  \n",
       "\n",
       "[3 rows x 30 columns]"
      ]
     },
     "execution_count": 5,
     "metadata": {},
     "output_type": "execute_result"
    }
   ],
   "source": [
    "df.head(3)"
   ]
  },
  {
   "cell_type": "code",
   "execution_count": 6,
   "metadata": {
    "collapsed": false
   },
   "outputs": [
    {
     "data": {
      "text/plain": [
       "Rk        object\n",
       "Player    object\n",
       "Pos       object\n",
       "Age       object\n",
       "Tm        object\n",
       "G         object\n",
       "GS        object\n",
       "MP        object\n",
       "FG        object\n",
       "FGA       object\n",
       "FG%       object\n",
       "3P        object\n",
       "3PA       object\n",
       "3P%       object\n",
       "2P        object\n",
       "2PA       object\n",
       "2P%       object\n",
       "eFG%      object\n",
       "FT        object\n",
       "FTA       object\n",
       "FT%       object\n",
       "ORB       object\n",
       "DRB       object\n",
       "TRB       object\n",
       "AST       object\n",
       "STL       object\n",
       "BLK       object\n",
       "TOV       object\n",
       "PF        object\n",
       "PTS       object\n",
       "dtype: object"
      ]
     },
     "execution_count": 6,
     "metadata": {},
     "output_type": "execute_result"
    }
   ],
   "source": [
    "df.dtypes"
   ]
  },
  {
   "cell_type": "code",
   "execution_count": 7,
   "metadata": {
    "collapsed": false
   },
   "outputs": [],
   "source": [
    "#Because everything came in as an Object dtype we will change the appropriate ones to Floats\n",
    "df['G'] = df['G'].astype(str).astype(float)\n",
    "df['GS'] = df['GS'].astype(str).astype(float)\n",
    "df['MP'] = df['MP'].astype(str).astype(float)\n",
    "df['FG'] = df['FG'].astype(str).astype(float)\n",
    "df['FGA'] = df['FGA'].astype(str).astype(float)\n",
    "df['FG%'] = df['FG%'].astype(str).astype(float)\n",
    "df['3P'] = df['3P'].astype(str).astype(float)\n",
    "df['3PA'] = df['3PA'].astype(str).astype(float)\n",
    "df['3P%'] = df['3P%'].astype(str).astype(float)\n",
    "df['2P'] = df['2P'].astype(str).astype(float)\n",
    "df['2PA'] = df['2PA'].astype(str).astype(float)\n",
    "df['2P%'] = df['2P%'].astype(str).astype(float)\n",
    "df['eFG%'] = df['eFG%'].astype(str).astype(float)\n",
    "df['FT'] = df['FT'].astype(str).astype(float)\n",
    "df['FTA'] = df['FTA'].astype(str).astype(float)\n",
    "df['FT%'] = df['FT%'].astype(str).astype(float)\n",
    "df['DRB'] = df['DRB'].astype(str).astype(float)\n",
    "df['ORB'] = df['ORB'].astype(str).astype(float)\n",
    "df['TRB'] = df['TRB'].astype(str).astype(float)\n",
    "df['AST'] = df['AST'].astype(str).astype(float)\n",
    "df['STL'] = df['STL'].astype(str).astype(float)\n",
    "df['BLK'] = df['BLK'].astype(str).astype(float)\n",
    "df['TOV'] = df['TOV'].astype(str).astype(float)\n",
    "df['PF'] = df['PF'].astype(str).astype(float)\n",
    "df['PTS'] = df['PTS'].astype(str).astype(float)"
   ]
  },
  {
   "cell_type": "code",
   "execution_count": 8,
   "metadata": {
    "collapsed": false
   },
   "outputs": [
    {
     "data": {
      "text/html": [
       "<div>\n",
       "<style scoped>\n",
       "    .dataframe tbody tr th:only-of-type {\n",
       "        vertical-align: middle;\n",
       "    }\n",
       "\n",
       "    .dataframe tbody tr th {\n",
       "        vertical-align: top;\n",
       "    }\n",
       "\n",
       "    .dataframe thead th {\n",
       "        text-align: right;\n",
       "    }\n",
       "</style>\n",
       "<table border=\"1\" class=\"dataframe\">\n",
       "  <thead>\n",
       "    <tr style=\"text-align: right;\">\n",
       "      <th></th>\n",
       "      <th>Rk</th>\n",
       "      <th>Player</th>\n",
       "      <th>Pos</th>\n",
       "      <th>Age</th>\n",
       "      <th>Tm</th>\n",
       "      <th>G</th>\n",
       "      <th>GS</th>\n",
       "      <th>MP</th>\n",
       "      <th>FG</th>\n",
       "      <th>FGA</th>\n",
       "      <th>...</th>\n",
       "      <th>FT%</th>\n",
       "      <th>ORB</th>\n",
       "      <th>DRB</th>\n",
       "      <th>TRB</th>\n",
       "      <th>AST</th>\n",
       "      <th>STL</th>\n",
       "      <th>BLK</th>\n",
       "      <th>TOV</th>\n",
       "      <th>PF</th>\n",
       "      <th>PTS</th>\n",
       "    </tr>\n",
       "  </thead>\n",
       "  <tbody>\n",
       "    <tr>\n",
       "      <th>0</th>\n",
       "      <td>1</td>\n",
       "      <td>Tariq Abdul-Wahad</td>\n",
       "      <td>SG</td>\n",
       "      <td>25</td>\n",
       "      <td>TOT</td>\n",
       "      <td>61.0</td>\n",
       "      <td>56.0</td>\n",
       "      <td>25.9</td>\n",
       "      <td>4.5</td>\n",
       "      <td>10.6</td>\n",
       "      <td>...</td>\n",
       "      <td>0.756</td>\n",
       "      <td>1.7</td>\n",
       "      <td>3.1</td>\n",
       "      <td>4.8</td>\n",
       "      <td>1.6</td>\n",
       "      <td>1.0</td>\n",
       "      <td>0.5</td>\n",
       "      <td>1.7</td>\n",
       "      <td>2.4</td>\n",
       "      <td>11.4</td>\n",
       "    </tr>\n",
       "    <tr>\n",
       "      <th>1</th>\n",
       "      <td>1</td>\n",
       "      <td>Tariq Abdul-Wahad</td>\n",
       "      <td>SG</td>\n",
       "      <td>25</td>\n",
       "      <td>ORL</td>\n",
       "      <td>46.0</td>\n",
       "      <td>46.0</td>\n",
       "      <td>26.2</td>\n",
       "      <td>4.8</td>\n",
       "      <td>11.2</td>\n",
       "      <td>...</td>\n",
       "      <td>0.762</td>\n",
       "      <td>1.7</td>\n",
       "      <td>3.5</td>\n",
       "      <td>5.2</td>\n",
       "      <td>1.6</td>\n",
       "      <td>1.2</td>\n",
       "      <td>0.3</td>\n",
       "      <td>1.9</td>\n",
       "      <td>2.5</td>\n",
       "      <td>12.2</td>\n",
       "    </tr>\n",
       "    <tr>\n",
       "      <th>2</th>\n",
       "      <td>1</td>\n",
       "      <td>Tariq Abdul-Wahad</td>\n",
       "      <td>SG</td>\n",
       "      <td>25</td>\n",
       "      <td>DEN</td>\n",
       "      <td>15.0</td>\n",
       "      <td>10.0</td>\n",
       "      <td>24.9</td>\n",
       "      <td>3.4</td>\n",
       "      <td>8.7</td>\n",
       "      <td>...</td>\n",
       "      <td>0.738</td>\n",
       "      <td>1.6</td>\n",
       "      <td>1.9</td>\n",
       "      <td>3.5</td>\n",
       "      <td>1.7</td>\n",
       "      <td>0.4</td>\n",
       "      <td>0.8</td>\n",
       "      <td>1.3</td>\n",
       "      <td>2.1</td>\n",
       "      <td>8.9</td>\n",
       "    </tr>\n",
       "    <tr>\n",
       "      <th>3</th>\n",
       "      <td>2</td>\n",
       "      <td>Shareef Abdur-Rahim</td>\n",
       "      <td>SF</td>\n",
       "      <td>23</td>\n",
       "      <td>VAN</td>\n",
       "      <td>82.0</td>\n",
       "      <td>82.0</td>\n",
       "      <td>39.3</td>\n",
       "      <td>7.2</td>\n",
       "      <td>15.6</td>\n",
       "      <td>...</td>\n",
       "      <td>0.809</td>\n",
       "      <td>2.7</td>\n",
       "      <td>7.4</td>\n",
       "      <td>10.1</td>\n",
       "      <td>3.3</td>\n",
       "      <td>1.1</td>\n",
       "      <td>1.1</td>\n",
       "      <td>3.0</td>\n",
       "      <td>3.0</td>\n",
       "      <td>20.3</td>\n",
       "    </tr>\n",
       "    <tr>\n",
       "      <th>4</th>\n",
       "      <td>3</td>\n",
       "      <td>Cory Alexander</td>\n",
       "      <td>PG</td>\n",
       "      <td>26</td>\n",
       "      <td>DEN</td>\n",
       "      <td>29.0</td>\n",
       "      <td>2.0</td>\n",
       "      <td>11.3</td>\n",
       "      <td>1.0</td>\n",
       "      <td>3.4</td>\n",
       "      <td>...</td>\n",
       "      <td>0.773</td>\n",
       "      <td>0.3</td>\n",
       "      <td>1.2</td>\n",
       "      <td>1.4</td>\n",
       "      <td>2.0</td>\n",
       "      <td>0.8</td>\n",
       "      <td>0.1</td>\n",
       "      <td>1.0</td>\n",
       "      <td>1.3</td>\n",
       "      <td>2.8</td>\n",
       "    </tr>\n",
       "  </tbody>\n",
       "</table>\n",
       "<p>5 rows × 30 columns</p>\n",
       "</div>"
      ],
      "text/plain": [
       "  Rk               Player Pos Age   Tm     G    GS    MP   FG   FGA  ...   \\\n",
       "0  1    Tariq Abdul-Wahad  SG  25  TOT  61.0  56.0  25.9  4.5  10.6  ...    \n",
       "1  1    Tariq Abdul-Wahad  SG  25  ORL  46.0  46.0  26.2  4.8  11.2  ...    \n",
       "2  1    Tariq Abdul-Wahad  SG  25  DEN  15.0  10.0  24.9  3.4   8.7  ...    \n",
       "3  2  Shareef Abdur-Rahim  SF  23  VAN  82.0  82.0  39.3  7.2  15.6  ...    \n",
       "4  3       Cory Alexander  PG  26  DEN  29.0   2.0  11.3  1.0   3.4  ...    \n",
       "\n",
       "     FT%  ORB  DRB   TRB  AST  STL  BLK  TOV   PF   PTS  \n",
       "0  0.756  1.7  3.1   4.8  1.6  1.0  0.5  1.7  2.4  11.4  \n",
       "1  0.762  1.7  3.5   5.2  1.6  1.2  0.3  1.9  2.5  12.2  \n",
       "2  0.738  1.6  1.9   3.5  1.7  0.4  0.8  1.3  2.1   8.9  \n",
       "3  0.809  2.7  7.4  10.1  3.3  1.1  1.1  3.0  3.0  20.3  \n",
       "4  0.773  0.3  1.2   1.4  2.0  0.8  0.1  1.0  1.3   2.8  \n",
       "\n",
       "[5 rows x 30 columns]"
      ]
     },
     "execution_count": 8,
     "metadata": {},
     "output_type": "execute_result"
    }
   ],
   "source": [
    "df.head(5)"
   ]
  },
  {
   "cell_type": "code",
   "execution_count": 9,
   "metadata": {
    "collapsed": false
   },
   "outputs": [
    {
     "data": {
      "text/plain": [
       "Rk         object\n",
       "Player     object\n",
       "Pos        object\n",
       "Age        object\n",
       "Tm         object\n",
       "G         float64\n",
       "GS        float64\n",
       "MP        float64\n",
       "FG        float64\n",
       "FGA       float64\n",
       "FG%       float64\n",
       "3P        float64\n",
       "3PA       float64\n",
       "3P%       float64\n",
       "2P        float64\n",
       "2PA       float64\n",
       "2P%       float64\n",
       "eFG%      float64\n",
       "FT        float64\n",
       "FTA       float64\n",
       "FT%       float64\n",
       "ORB       float64\n",
       "DRB       float64\n",
       "TRB       float64\n",
       "AST       float64\n",
       "STL       float64\n",
       "BLK       float64\n",
       "TOV       float64\n",
       "PF        float64\n",
       "PTS       float64\n",
       "dtype: object"
      ]
     },
     "execution_count": 9,
     "metadata": {},
     "output_type": "execute_result"
    }
   ],
   "source": [
    "df.dtypes"
   ]
  },
  {
   "cell_type": "code",
   "execution_count": 10,
   "metadata": {
    "collapsed": false
   },
   "outputs": [],
   "source": [
    "#We are missing some key metrics that can add some valuable insights\n",
    "\n",
    "# Points Per Minute\n",
    "df['PPM'] = df.apply(lambda x: x.PTS / x.MP, axis=1)\n",
    "\n",
    "#Field Goal Attempts per Minute\n",
    "df['FGAPM'] = df.apply(lambda x: x.FGA / x.MP, axis=1)\n",
    "\n",
    "# Offensive Rebounds Per Minute\n",
    "df['ORBPM'] = df.apply(lambda x: x.ORB / x.MP, axis=1)\n",
    "\n",
    "# Defensive Rebounds Per Minute\n",
    "df['DRBPM'] = df.apply(lambda x: x.DRB / x.MP, axis=1)\n",
    "\n",
    "# Assists Per Minute\n",
    "df['APM'] = df.apply(lambda x: x.AST / x.MP, axis=1)\n",
    "\n",
    "# Personal Fouls Per Minute\n",
    "df['PFPM'] = df.apply(lambda x: x.PF / x.MP, axis=1)\n",
    "\n",
    "# Free Throws Attempted Per Minute\n",
    "df['FTAPM'] = df.apply(lambda x: x.FTA / x.MP, axis=1)\n",
    "\n",
    "# Turnovers Per Minute\n",
    "df['TOVPM'] = df.apply(lambda x: x.TOV / x.MP, axis=1)"
   ]
  },
  {
   "cell_type": "code",
   "execution_count": 11,
   "metadata": {
    "collapsed": false
   },
   "outputs": [
    {
     "data": {
      "text/plain": [
       "(11571, 38)"
      ]
     },
     "execution_count": 11,
     "metadata": {},
     "output_type": "execute_result"
    }
   ],
   "source": [
    "#Let's see how many rows of data and features we have remaining\n",
    "df.shape"
   ]
  },
  {
   "cell_type": "code",
   "execution_count": 12,
   "metadata": {
    "collapsed": false
   },
   "outputs": [],
   "source": [
    "#Create feature set\n",
    "feature_set = df[['Pos','MP','FG','FGA','FG%','3P','3PA','3P%','2P','2PA','2P%','eFG%',\n",
    "                   'FT','FTA','FT%','ORB','DRB','TRB','AST','STL','BLK','TOV','PF','PTS'\n",
    "                  ,'PPM','FGAPM','ORBPM','DRBPM','APM','PFPM','FTAPM','TOVPM']]"
   ]
  },
  {
   "cell_type": "code",
   "execution_count": 13,
   "metadata": {
    "collapsed": false
   },
   "outputs": [
    {
     "data": {
      "text/plain": [
       "(11571, 32)"
      ]
     },
     "execution_count": 13,
     "metadata": {},
     "output_type": "execute_result"
    }
   ],
   "source": [
    "feature_set.shape"
   ]
  },
  {
   "cell_type": "markdown",
   "metadata": {},
   "source": [
    "# Machine Learning\n",
    "### Classification Model to Predict Player Positions"
   ]
  },
  {
   "cell_type": "code",
   "execution_count": 14,
   "metadata": {
    "collapsed": false
   },
   "outputs": [],
   "source": [
    "# split data into X (Our Features to determine the classification) and y (The classification)\n",
    "X = feature_set.iloc[:,1:33]\n",
    "Y = feature_set.iloc[:,0]"
   ]
  },
  {
   "cell_type": "code",
   "execution_count": 15,
   "metadata": {
    "collapsed": false
   },
   "outputs": [],
   "source": [
    "seed = 3\n",
    "test_size = 0.30\n",
    "X_train, X_test, y_train, y_test = train_test_split(X, Y, test_size=test_size, random_state=seed)"
   ]
  },
  {
   "cell_type": "markdown",
   "metadata": {},
   "source": [
    "### XGBoost"
   ]
  },
  {
   "cell_type": "code",
   "execution_count": 16,
   "metadata": {
    "collapsed": false
   },
   "outputs": [
    {
     "data": {
      "text/plain": [
       "XGBClassifier(base_score=0.5, booster='gbtree', colsample_bylevel=1,\n",
       "       colsample_bytree=1, gamma=0, learning_rate=0.1, max_delta_step=0,\n",
       "       max_depth=6, min_child_weight=8, missing=None, n_estimators=100,\n",
       "       n_jobs=1, nthread=None, objective='multi:softprob', random_state=0,\n",
       "       reg_alpha=0, reg_lambda=1, scale_pos_weight=1, seed=3, silent=True,\n",
       "       subsample=1)"
      ]
     },
     "execution_count": 16,
     "metadata": {},
     "output_type": "execute_result"
    }
   ],
   "source": [
    "model = XGBClassifier(seed=seed,\n",
    "                      max_depth=6,\n",
    "                      min_child_weight=8)\n",
    "\n",
    "model.fit(X_train, y_train)"
   ]
  },
  {
   "cell_type": "code",
   "execution_count": 17,
   "metadata": {
    "collapsed": false
   },
   "outputs": [],
   "source": [
    "y_pred = model.predict(X_test)\n",
    "predictions = [value for value in y_pred]"
   ]
  },
  {
   "cell_type": "code",
   "execution_count": 18,
   "metadata": {
    "collapsed": false
   },
   "outputs": [
    {
     "name": "stdout",
     "output_type": "stream",
     "text": [
      "Accuracy: 65.47%\n"
     ]
    }
   ],
   "source": [
    "accuracy = accuracy_score(y_test, predictions)\n",
    "print(\"Accuracy: %.2f%%\" % (accuracy * 100.0))"
   ]
  },
  {
   "cell_type": "markdown",
   "metadata": {},
   "source": [
    "## 65.47% Accuracy...that's a start! Perhaps we can improve."
   ]
  },
  {
   "cell_type": "markdown",
   "metadata": {},
   "source": [
    "## What if we pull in more data?"
   ]
  },
  {
   "cell_type": "code",
   "execution_count": 19,
   "metadata": {
    "collapsed": false
   },
   "outputs": [
    {
     "data": {
      "text/html": [
       "<div>\n",
       "<style scoped>\n",
       "    .dataframe tbody tr th:only-of-type {\n",
       "        vertical-align: middle;\n",
       "    }\n",
       "\n",
       "    .dataframe tbody tr th {\n",
       "        vertical-align: top;\n",
       "    }\n",
       "\n",
       "    .dataframe thead th {\n",
       "        text-align: right;\n",
       "    }\n",
       "</style>\n",
       "<table border=\"1\" class=\"dataframe\">\n",
       "  <thead>\n",
       "    <tr style=\"text-align: right;\">\n",
       "      <th></th>\n",
       "      <th>name</th>\n",
       "      <th>height</th>\n",
       "      <th>weight</th>\n",
       "    </tr>\n",
       "  </thead>\n",
       "  <tbody>\n",
       "    <tr>\n",
       "      <th>0</th>\n",
       "      <td>Alaa Abdelnaby</td>\n",
       "      <td>6-10</td>\n",
       "      <td>240.0</td>\n",
       "    </tr>\n",
       "    <tr>\n",
       "      <th>1</th>\n",
       "      <td>Zaid Abdul-Aziz</td>\n",
       "      <td>6-9</td>\n",
       "      <td>235.0</td>\n",
       "    </tr>\n",
       "    <tr>\n",
       "      <th>2</th>\n",
       "      <td>Kareem Abdul-Jabbar</td>\n",
       "      <td>7-2</td>\n",
       "      <td>225.0</td>\n",
       "    </tr>\n",
       "  </tbody>\n",
       "</table>\n",
       "</div>"
      ],
      "text/plain": [
       "                  name height  weight\n",
       "0       Alaa Abdelnaby   6-10   240.0\n",
       "1      Zaid Abdul-Aziz    6-9   235.0\n",
       "2  Kareem Abdul-Jabbar    7-2   225.0"
      ]
     },
     "execution_count": 19,
     "metadata": {},
     "output_type": "execute_result"
    }
   ],
   "source": [
    "#As an additional datasource we will bring player data from Kaggle \n",
    "#(https://www.kaggle.com/drgilermo/nba-players-stats) to enhance our predictions\n",
    "\n",
    "data = pd.read_csv('player_data.csv')\n",
    "\n",
    "data = data[['name','height','weight']]\n",
    "\n",
    "data.head(3)"
   ]
  },
  {
   "cell_type": "code",
   "execution_count": 20,
   "metadata": {
    "collapsed": true
   },
   "outputs": [],
   "source": [
    "#We will need to conver height into a inches for easier use\n",
    "data['height'] = data['height'].str.split('-')\n",
    "data['height'] = (data['height'].str[0].astype(float))*12 + (data['height'].str[1].astype(float))"
   ]
  },
  {
   "cell_type": "code",
   "execution_count": 21,
   "metadata": {
    "collapsed": false
   },
   "outputs": [
    {
     "data": {
      "text/html": [
       "<div>\n",
       "<style scoped>\n",
       "    .dataframe tbody tr th:only-of-type {\n",
       "        vertical-align: middle;\n",
       "    }\n",
       "\n",
       "    .dataframe tbody tr th {\n",
       "        vertical-align: top;\n",
       "    }\n",
       "\n",
       "    .dataframe thead th {\n",
       "        text-align: right;\n",
       "    }\n",
       "</style>\n",
       "<table border=\"1\" class=\"dataframe\">\n",
       "  <thead>\n",
       "    <tr style=\"text-align: right;\">\n",
       "      <th></th>\n",
       "      <th>name</th>\n",
       "      <th>height</th>\n",
       "      <th>weight</th>\n",
       "    </tr>\n",
       "  </thead>\n",
       "  <tbody>\n",
       "    <tr>\n",
       "      <th>4547</th>\n",
       "      <td>Bill Zopf</td>\n",
       "      <td>73.0</td>\n",
       "      <td>170.0</td>\n",
       "    </tr>\n",
       "    <tr>\n",
       "      <th>4548</th>\n",
       "      <td>Ivica Zubac</td>\n",
       "      <td>85.0</td>\n",
       "      <td>265.0</td>\n",
       "    </tr>\n",
       "    <tr>\n",
       "      <th>4549</th>\n",
       "      <td>Matt Zunic</td>\n",
       "      <td>75.0</td>\n",
       "      <td>195.0</td>\n",
       "    </tr>\n",
       "  </tbody>\n",
       "</table>\n",
       "</div>"
      ],
      "text/plain": [
       "             name  height  weight\n",
       "4547    Bill Zopf    73.0   170.0\n",
       "4548  Ivica Zubac    85.0   265.0\n",
       "4549   Matt Zunic    75.0   195.0"
      ]
     },
     "execution_count": 21,
     "metadata": {},
     "output_type": "execute_result"
    }
   ],
   "source": [
    "data.tail(3)"
   ]
  },
  {
   "cell_type": "code",
   "execution_count": 22,
   "metadata": {
    "collapsed": false
   },
   "outputs": [
    {
     "data": {
      "text/html": [
       "<div>\n",
       "<style scoped>\n",
       "    .dataframe tbody tr th:only-of-type {\n",
       "        vertical-align: middle;\n",
       "    }\n",
       "\n",
       "    .dataframe tbody tr th {\n",
       "        vertical-align: top;\n",
       "    }\n",
       "\n",
       "    .dataframe thead th {\n",
       "        text-align: right;\n",
       "    }\n",
       "</style>\n",
       "<table border=\"1\" class=\"dataframe\">\n",
       "  <thead>\n",
       "    <tr style=\"text-align: right;\">\n",
       "      <th></th>\n",
       "      <th>Rk</th>\n",
       "      <th>Player</th>\n",
       "      <th>Pos</th>\n",
       "      <th>Age</th>\n",
       "      <th>Tm</th>\n",
       "      <th>G</th>\n",
       "      <th>GS</th>\n",
       "      <th>MP</th>\n",
       "      <th>FG</th>\n",
       "      <th>FGA</th>\n",
       "      <th>...</th>\n",
       "      <th>FGAPM</th>\n",
       "      <th>ORBPM</th>\n",
       "      <th>DRBPM</th>\n",
       "      <th>APM</th>\n",
       "      <th>PFPM</th>\n",
       "      <th>FTAPM</th>\n",
       "      <th>TOVPM</th>\n",
       "      <th>name</th>\n",
       "      <th>height</th>\n",
       "      <th>weight</th>\n",
       "    </tr>\n",
       "  </thead>\n",
       "  <tbody>\n",
       "    <tr>\n",
       "      <th>0</th>\n",
       "      <td>1</td>\n",
       "      <td>Tariq Abdul-Wahad</td>\n",
       "      <td>SG</td>\n",
       "      <td>25</td>\n",
       "      <td>TOT</td>\n",
       "      <td>61.0</td>\n",
       "      <td>56.0</td>\n",
       "      <td>25.9</td>\n",
       "      <td>4.5</td>\n",
       "      <td>10.6</td>\n",
       "      <td>...</td>\n",
       "      <td>0.409266</td>\n",
       "      <td>0.065637</td>\n",
       "      <td>0.119691</td>\n",
       "      <td>0.061776</td>\n",
       "      <td>0.092664</td>\n",
       "      <td>0.123552</td>\n",
       "      <td>0.065637</td>\n",
       "      <td>Tariq Abdul-Wahad</td>\n",
       "      <td>78.0</td>\n",
       "      <td>223.0</td>\n",
       "    </tr>\n",
       "    <tr>\n",
       "      <th>1</th>\n",
       "      <td>1</td>\n",
       "      <td>Tariq Abdul-Wahad</td>\n",
       "      <td>SG</td>\n",
       "      <td>25</td>\n",
       "      <td>ORL</td>\n",
       "      <td>46.0</td>\n",
       "      <td>46.0</td>\n",
       "      <td>26.2</td>\n",
       "      <td>4.8</td>\n",
       "      <td>11.2</td>\n",
       "      <td>...</td>\n",
       "      <td>0.427481</td>\n",
       "      <td>0.064885</td>\n",
       "      <td>0.133588</td>\n",
       "      <td>0.061069</td>\n",
       "      <td>0.095420</td>\n",
       "      <td>0.125954</td>\n",
       "      <td>0.072519</td>\n",
       "      <td>Tariq Abdul-Wahad</td>\n",
       "      <td>78.0</td>\n",
       "      <td>223.0</td>\n",
       "    </tr>\n",
       "    <tr>\n",
       "      <th>2</th>\n",
       "      <td>1</td>\n",
       "      <td>Tariq Abdul-Wahad</td>\n",
       "      <td>SG</td>\n",
       "      <td>25</td>\n",
       "      <td>DEN</td>\n",
       "      <td>15.0</td>\n",
       "      <td>10.0</td>\n",
       "      <td>24.9</td>\n",
       "      <td>3.4</td>\n",
       "      <td>8.7</td>\n",
       "      <td>...</td>\n",
       "      <td>0.349398</td>\n",
       "      <td>0.064257</td>\n",
       "      <td>0.076305</td>\n",
       "      <td>0.068273</td>\n",
       "      <td>0.084337</td>\n",
       "      <td>0.112450</td>\n",
       "      <td>0.052209</td>\n",
       "      <td>Tariq Abdul-Wahad</td>\n",
       "      <td>78.0</td>\n",
       "      <td>223.0</td>\n",
       "    </tr>\n",
       "  </tbody>\n",
       "</table>\n",
       "<p>3 rows × 41 columns</p>\n",
       "</div>"
      ],
      "text/plain": [
       "  Rk             Player Pos Age   Tm     G    GS    MP   FG   FGA   ...    \\\n",
       "0  1  Tariq Abdul-Wahad  SG  25  TOT  61.0  56.0  25.9  4.5  10.6   ...     \n",
       "1  1  Tariq Abdul-Wahad  SG  25  ORL  46.0  46.0  26.2  4.8  11.2   ...     \n",
       "2  1  Tariq Abdul-Wahad  SG  25  DEN  15.0  10.0  24.9  3.4   8.7   ...     \n",
       "\n",
       "      FGAPM     ORBPM     DRBPM       APM      PFPM     FTAPM     TOVPM  \\\n",
       "0  0.409266  0.065637  0.119691  0.061776  0.092664  0.123552  0.065637   \n",
       "1  0.427481  0.064885  0.133588  0.061069  0.095420  0.125954  0.072519   \n",
       "2  0.349398  0.064257  0.076305  0.068273  0.084337  0.112450  0.052209   \n",
       "\n",
       "                name  height  weight  \n",
       "0  Tariq Abdul-Wahad    78.0   223.0  \n",
       "1  Tariq Abdul-Wahad    78.0   223.0  \n",
       "2  Tariq Abdul-Wahad    78.0   223.0  \n",
       "\n",
       "[3 rows x 41 columns]"
      ]
     },
     "execution_count": 22,
     "metadata": {},
     "output_type": "execute_result"
    }
   ],
   "source": [
    "#In this case we do not have any players with the same name, and therefore can use the name fields to do the join\n",
    "df = pd.merge(df, data, left_on='Player',right_on='name', how='left')\n",
    "\n",
    "df.head(3)"
   ]
  },
  {
   "cell_type": "code",
   "execution_count": 23,
   "metadata": {
    "collapsed": false
   },
   "outputs": [],
   "source": [
    "#Save as a csv for future analysis to reduce need for webscraping\n",
    "df = df.drop(columns = ['name'], axis=1)\n",
    "df.to_csv('output_files/NBA_player_data.csv', index=False)"
   ]
  },
  {
   "cell_type": "code",
   "execution_count": 24,
   "metadata": {
    "collapsed": true
   },
   "outputs": [],
   "source": [
    "#Create our improved Feature Set\n",
    "improved_feature_set = df[['Pos','MP','FG','FGA','FG%','3P','3PA','3P%','2P','2PA','2P%','eFG%',\n",
    "                   'FT','FTA','FT%','ORB','DRB','TRB','AST','STL','BLK','TOV','PF','PTS'\n",
    "                  ,'PPM','FGAPM','ORBPM','DRBPM','APM','PFPM','FTAPM','TOVPM','height','weight']]"
   ]
  },
  {
   "cell_type": "code",
   "execution_count": 25,
   "metadata": {
    "collapsed": true
   },
   "outputs": [],
   "source": [
    "X = improved_feature_set.iloc[:,1:35]\n",
    "Y = improved_feature_set.iloc[:,0]"
   ]
  },
  {
   "cell_type": "code",
   "execution_count": 26,
   "metadata": {
    "collapsed": true
   },
   "outputs": [],
   "source": [
    "seed = 3\n",
    "test_size = 0.30\n",
    "X_train, X_test, y_train, y_test = train_test_split(X, Y, test_size=test_size, random_state=seed)"
   ]
  },
  {
   "cell_type": "code",
   "execution_count": 27,
   "metadata": {
    "collapsed": false
   },
   "outputs": [
    {
     "data": {
      "text/plain": [
       "XGBClassifier(base_score=0.5, booster='gbtree', colsample_bylevel=1,\n",
       "       colsample_bytree=1, gamma=0, learning_rate=0.1, max_delta_step=0,\n",
       "       max_depth=6, min_child_weight=8, missing=None, n_estimators=100,\n",
       "       n_jobs=1, nthread=None, objective='multi:softprob', random_state=0,\n",
       "       reg_alpha=0, reg_lambda=1, scale_pos_weight=1, seed=3, silent=True,\n",
       "       subsample=1)"
      ]
     },
     "execution_count": 27,
     "metadata": {},
     "output_type": "execute_result"
    }
   ],
   "source": [
    "model = XGBClassifier(seed=seed,\n",
    "                      max_depth=6,\n",
    "                      min_child_weight=8)\n",
    "\n",
    "model.fit(X_train, y_train)"
   ]
  },
  {
   "cell_type": "code",
   "execution_count": 28,
   "metadata": {
    "collapsed": true
   },
   "outputs": [],
   "source": [
    "y_pred = model.predict(X_test)\n",
    "predictions = [value for value in y_pred]"
   ]
  },
  {
   "cell_type": "code",
   "execution_count": 29,
   "metadata": {
    "collapsed": false
   },
   "outputs": [
    {
     "name": "stdout",
     "output_type": "stream",
     "text": [
      "Accuracy: 76.04%\n"
     ]
    }
   ],
   "source": [
    "accuracy = accuracy_score(y_test, predictions)\n",
    "print(\"Accuracy: %.2f%%\" % (accuracy * 100.0))"
   ]
  },
  {
   "cell_type": "markdown",
   "metadata": {},
   "source": [
    "## 76.04% That is a big improvement!"
   ]
  },
  {
   "cell_type": "code",
   "execution_count": 30,
   "metadata": {
    "collapsed": false
   },
   "outputs": [
    {
     "name": "stdout",
     "output_type": "stream",
     "text": [
      "[ 0.01963553  0.00618654  0.01203685  0.02696523  0.00800215  0.03187412\n",
      "  0.04027974  0.00813664  0.0160043   0.03227759  0.02259431  0.00793491\n",
      "  0.00914532  0.0527873   0.00927981  0.01318001  0.01876135  0.01291103\n",
      "  0.01701298  0.02111492  0.01237307  0.01977002  0.01049022  0.0281084\n",
      "  0.03658127  0.06031874  0.07867662  0.06798467  0.05117343  0.03940555\n",
      "  0.04155739  0.08277857  0.08466142]\n"
     ]
    }
   ],
   "source": [
    "print(model.feature_importances_)"
   ]
  },
  {
   "cell_type": "markdown",
   "metadata": {},
   "source": [
    "# Conclusion"
   ]
  },
  {
   "cell_type": "markdown",
   "metadata": {},
   "source": [
    "### What these findings show us are that the statistics alone do not give you a 100% certainty of what position an NBA player plays\n",
    "\n",
    "### In the NBA today you see a shift from referring to players by these traditional roles, and perhaps that is for good reason\n",
    "\n",
    "### You can run into examples like the one below that show a lot of similarities between those playing different traditional positions"
   ]
  },
  {
   "cell_type": "code",
   "execution_count": 31,
   "metadata": {
    "collapsed": false
   },
   "outputs": [
    {
     "data": {
      "text/html": [
       "<div>\n",
       "<style scoped>\n",
       "    .dataframe tbody tr th:only-of-type {\n",
       "        vertical-align: middle;\n",
       "    }\n",
       "\n",
       "    .dataframe tbody tr th {\n",
       "        vertical-align: top;\n",
       "    }\n",
       "\n",
       "    .dataframe thead th {\n",
       "        text-align: right;\n",
       "    }\n",
       "</style>\n",
       "<table border=\"1\" class=\"dataframe\">\n",
       "  <thead>\n",
       "    <tr style=\"text-align: right;\">\n",
       "      <th></th>\n",
       "      <th>Pos</th>\n",
       "      <th>MP</th>\n",
       "      <th>FG</th>\n",
       "      <th>FGA</th>\n",
       "      <th>FG%</th>\n",
       "      <th>3P</th>\n",
       "      <th>3PA</th>\n",
       "      <th>3P%</th>\n",
       "      <th>2P</th>\n",
       "      <th>2PA</th>\n",
       "      <th>...</th>\n",
       "      <th>PPM</th>\n",
       "      <th>FGAPM</th>\n",
       "      <th>ORBPM</th>\n",
       "      <th>DRBPM</th>\n",
       "      <th>APM</th>\n",
       "      <th>PFPM</th>\n",
       "      <th>FTAPM</th>\n",
       "      <th>TOVPM</th>\n",
       "      <th>height</th>\n",
       "      <th>weight</th>\n",
       "    </tr>\n",
       "  </thead>\n",
       "  <tbody>\n",
       "    <tr>\n",
       "      <th>11</th>\n",
       "      <td>SF</td>\n",
       "      <td>32.9</td>\n",
       "      <td>4.5</td>\n",
       "      <td>9.5</td>\n",
       "      <td>0.473</td>\n",
       "      <td>1.0</td>\n",
       "      <td>2.7</td>\n",
       "      <td>0.351</td>\n",
       "      <td>3.5</td>\n",
       "      <td>6.7</td>\n",
       "      <td>...</td>\n",
       "      <td>0.373860</td>\n",
       "      <td>0.288754</td>\n",
       "      <td>0.033435</td>\n",
       "      <td>0.109422</td>\n",
       "      <td>0.088146</td>\n",
       "      <td>0.066869</td>\n",
       "      <td>0.094225</td>\n",
       "      <td>0.072948</td>\n",
       "      <td>78.0</td>\n",
       "      <td>208.0</td>\n",
       "    </tr>\n",
       "    <tr>\n",
       "      <th>25</th>\n",
       "      <td>SG</td>\n",
       "      <td>34.1</td>\n",
       "      <td>4.1</td>\n",
       "      <td>8.8</td>\n",
       "      <td>0.463</td>\n",
       "      <td>2.1</td>\n",
       "      <td>5.0</td>\n",
       "      <td>0.411</td>\n",
       "      <td>2.0</td>\n",
       "      <td>3.9</td>\n",
       "      <td>...</td>\n",
       "      <td>0.346041</td>\n",
       "      <td>0.258065</td>\n",
       "      <td>0.017595</td>\n",
       "      <td>0.117302</td>\n",
       "      <td>0.105572</td>\n",
       "      <td>0.085044</td>\n",
       "      <td>0.058651</td>\n",
       "      <td>0.052786</td>\n",
       "      <td>78.0</td>\n",
       "      <td>185.0</td>\n",
       "    </tr>\n",
       "    <tr>\n",
       "      <th>68</th>\n",
       "      <td>SG</td>\n",
       "      <td>38.2</td>\n",
       "      <td>8.4</td>\n",
       "      <td>17.9</td>\n",
       "      <td>0.468</td>\n",
       "      <td>0.7</td>\n",
       "      <td>2.2</td>\n",
       "      <td>0.319</td>\n",
       "      <td>7.7</td>\n",
       "      <td>15.7</td>\n",
       "      <td>...</td>\n",
       "      <td>0.589005</td>\n",
       "      <td>0.468586</td>\n",
       "      <td>0.041885</td>\n",
       "      <td>0.123037</td>\n",
       "      <td>0.128272</td>\n",
       "      <td>0.086387</td>\n",
       "      <td>0.159686</td>\n",
       "      <td>0.073298</td>\n",
       "      <td>78.0</td>\n",
       "      <td>212.0</td>\n",
       "    </tr>\n",
       "    <tr>\n",
       "      <th>84</th>\n",
       "      <td>SF</td>\n",
       "      <td>38.1</td>\n",
       "      <td>9.6</td>\n",
       "      <td>20.7</td>\n",
       "      <td>0.465</td>\n",
       "      <td>1.2</td>\n",
       "      <td>2.9</td>\n",
       "      <td>0.403</td>\n",
       "      <td>8.5</td>\n",
       "      <td>17.8</td>\n",
       "      <td>...</td>\n",
       "      <td>0.674541</td>\n",
       "      <td>0.543307</td>\n",
       "      <td>0.047244</td>\n",
       "      <td>0.104987</td>\n",
       "      <td>0.102362</td>\n",
       "      <td>0.083990</td>\n",
       "      <td>0.175853</td>\n",
       "      <td>0.057743</td>\n",
       "      <td>78.0</td>\n",
       "      <td>220.0</td>\n",
       "    </tr>\n",
       "    <tr>\n",
       "      <th>127</th>\n",
       "      <td>SG</td>\n",
       "      <td>11.9</td>\n",
       "      <td>2.0</td>\n",
       "      <td>3.9</td>\n",
       "      <td>0.503</td>\n",
       "      <td>0.0</td>\n",
       "      <td>0.1</td>\n",
       "      <td>0.000</td>\n",
       "      <td>2.0</td>\n",
       "      <td>3.8</td>\n",
       "      <td>...</td>\n",
       "      <td>0.394958</td>\n",
       "      <td>0.327731</td>\n",
       "      <td>0.050420</td>\n",
       "      <td>0.092437</td>\n",
       "      <td>0.109244</td>\n",
       "      <td>0.067227</td>\n",
       "      <td>0.092437</td>\n",
       "      <td>0.084034</td>\n",
       "      <td>78.0</td>\n",
       "      <td>195.0</td>\n",
       "    </tr>\n",
       "  </tbody>\n",
       "</table>\n",
       "<p>5 rows × 34 columns</p>\n",
       "</div>"
      ],
      "text/plain": [
       "    Pos    MP   FG   FGA    FG%   3P  3PA    3P%   2P   2PA   ...         PPM  \\\n",
       "11   SF  32.9  4.5   9.5  0.473  1.0  2.7  0.351  3.5   6.7   ...    0.373860   \n",
       "25   SG  34.1  4.1   8.8  0.463  2.1  5.0  0.411  2.0   3.9   ...    0.346041   \n",
       "68   SG  38.2  8.4  17.9  0.468  0.7  2.2  0.319  7.7  15.7   ...    0.589005   \n",
       "84   SF  38.1  9.6  20.7  0.465  1.2  2.9  0.403  8.5  17.8   ...    0.674541   \n",
       "127  SG  11.9  2.0   3.9  0.503  0.0  0.1  0.000  2.0   3.8   ...    0.394958   \n",
       "\n",
       "        FGAPM     ORBPM     DRBPM       APM      PFPM     FTAPM     TOVPM  \\\n",
       "11   0.288754  0.033435  0.109422  0.088146  0.066869  0.094225  0.072948   \n",
       "25   0.258065  0.017595  0.117302  0.105572  0.085044  0.058651  0.052786   \n",
       "68   0.468586  0.041885  0.123037  0.128272  0.086387  0.159686  0.073298   \n",
       "84   0.543307  0.047244  0.104987  0.102362  0.083990  0.175853  0.057743   \n",
       "127  0.327731  0.050420  0.092437  0.109244  0.067227  0.092437  0.084034   \n",
       "\n",
       "     height  weight  \n",
       "11     78.0   208.0  \n",
       "25     78.0   185.0  \n",
       "68     78.0   212.0  \n",
       "84     78.0   220.0  \n",
       "127    78.0   195.0  \n",
       "\n",
       "[5 rows x 34 columns]"
      ]
     },
     "execution_count": 31,
     "metadata": {},
     "output_type": "execute_result"
    }
   ],
   "source": [
    "example = improved_feature_set[(improved_feature_set['height'] == 78.0) \n",
    "                               & (improved_feature_set['FG%'] > .45)\n",
    "                               & (improved_feature_set['Pos'].isin(['SG','SF']))]\n",
    "\n",
    "example.head()"
   ]
  }
 ],
 "metadata": {
  "anaconda-cloud": {},
  "kernelspec": {
   "display_name": "Python [conda root]",
   "language": "python",
   "name": "conda-root-py"
  },
  "language_info": {
   "codemirror_mode": {
    "name": "ipython",
    "version": 3
   },
   "file_extension": ".py",
   "mimetype": "text/x-python",
   "name": "python",
   "nbconvert_exporter": "python",
   "pygments_lexer": "ipython3",
   "version": "3.5.4"
  }
 },
 "nbformat": 4,
 "nbformat_minor": 2
}
